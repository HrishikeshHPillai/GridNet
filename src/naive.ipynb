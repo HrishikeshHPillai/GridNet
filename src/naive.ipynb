{
 "cells": [
  {
   "cell_type": "code",
   "execution_count": 1,
   "metadata": {},
   "outputs": [],
   "source": [
    "import numpy as np\n",
    "import pandas as pd\n",
    "from sklearn.model_selection import train_test_split"
   ]
  },
  {
   "cell_type": "code",
   "execution_count": 2,
   "metadata": {},
   "outputs": [],
   "source": [
    "\n",
    "# Load the time series data\n",
    "data = pd.read_csv('../Datasets/SolarPrediction2.csv')\n",
    "\n",
    "# Separate features and target variable\n",
    "X = data[['Temperature', 'Pressure', 'Humidity', 'WindDirection(Degrees)', 'Speed']]\n",
    "y = data['Radiation']\n",
    "\n"
   ]
  },
  {
   "cell_type": "code",
   "execution_count": 3,
   "metadata": {},
   "outputs": [
    {
     "data": {
      "text/plain": [
       "(       Temperature  Pressure  Humidity  WindDirection(Degrees)  Speed\n",
       " 0               48     30.46        59                  177.39   5.62\n",
       " 1               48     30.46        58                  176.78   3.37\n",
       " 2               48     30.46        57                  158.75   3.37\n",
       " 3               48     30.46        60                  137.71   3.37\n",
       " 4               48     30.46        62                  104.95   5.62\n",
       " ...            ...       ...       ...                     ...    ...\n",
       " 32681           44     30.43       102                  145.42   6.75\n",
       " 32682           44     30.42       102                  117.78   6.75\n",
       " 32683           44     30.42       102                  145.19   9.00\n",
       " 32684           44     30.42       101                  164.19   7.87\n",
       " 32685           44     30.43       101                   83.59   3.37\n",
       " \n",
       " [32686 rows x 5 columns],\n",
       " 0        1.21\n",
       " 1        1.21\n",
       " 2        1.23\n",
       " 3        1.21\n",
       " 4        1.17\n",
       "          ... \n",
       " 32681    1.22\n",
       " 32682    1.17\n",
       " 32683    1.20\n",
       " 32684    1.23\n",
       " 32685    1.20\n",
       " Name: Radiation, Length: 32686, dtype: float64)"
      ]
     },
     "execution_count": 3,
     "metadata": {},
     "output_type": "execute_result"
    }
   ],
   "source": [
    "X,y"
   ]
  },
  {
   "cell_type": "code",
   "execution_count": 5,
   "metadata": {},
   "outputs": [
    {
     "data": {
      "text/html": [
       "<div>\n",
       "<style scoped>\n",
       "    .dataframe tbody tr th:only-of-type {\n",
       "        vertical-align: middle;\n",
       "    }\n",
       "\n",
       "    .dataframe tbody tr th {\n",
       "        vertical-align: top;\n",
       "    }\n",
       "\n",
       "    .dataframe thead th {\n",
       "        text-align: right;\n",
       "    }\n",
       "</style>\n",
       "<table border=\"1\" class=\"dataframe\">\n",
       "  <thead>\n",
       "    <tr style=\"text-align: right;\">\n",
       "      <th></th>\n",
       "      <th>Temperature</th>\n",
       "      <th>Pressure</th>\n",
       "      <th>Humidity</th>\n",
       "      <th>WindDirection(Degrees)</th>\n",
       "      <th>Speed</th>\n",
       "    </tr>\n",
       "  </thead>\n",
       "  <tbody>\n",
       "    <tr>\n",
       "      <th>0</th>\n",
       "      <td>48</td>\n",
       "      <td>30.46</td>\n",
       "      <td>59</td>\n",
       "      <td>177.39</td>\n",
       "      <td>5.62</td>\n",
       "    </tr>\n",
       "    <tr>\n",
       "      <th>1</th>\n",
       "      <td>48</td>\n",
       "      <td>30.46</td>\n",
       "      <td>58</td>\n",
       "      <td>176.78</td>\n",
       "      <td>3.37</td>\n",
       "    </tr>\n",
       "    <tr>\n",
       "      <th>2</th>\n",
       "      <td>48</td>\n",
       "      <td>30.46</td>\n",
       "      <td>57</td>\n",
       "      <td>158.75</td>\n",
       "      <td>3.37</td>\n",
       "    </tr>\n",
       "    <tr>\n",
       "      <th>3</th>\n",
       "      <td>48</td>\n",
       "      <td>30.46</td>\n",
       "      <td>60</td>\n",
       "      <td>137.71</td>\n",
       "      <td>3.37</td>\n",
       "    </tr>\n",
       "    <tr>\n",
       "      <th>4</th>\n",
       "      <td>48</td>\n",
       "      <td>30.46</td>\n",
       "      <td>62</td>\n",
       "      <td>104.95</td>\n",
       "      <td>5.62</td>\n",
       "    </tr>\n",
       "    <tr>\n",
       "      <th>...</th>\n",
       "      <td>...</td>\n",
       "      <td>...</td>\n",
       "      <td>...</td>\n",
       "      <td>...</td>\n",
       "      <td>...</td>\n",
       "    </tr>\n",
       "    <tr>\n",
       "      <th>32681</th>\n",
       "      <td>44</td>\n",
       "      <td>30.43</td>\n",
       "      <td>102</td>\n",
       "      <td>145.42</td>\n",
       "      <td>6.75</td>\n",
       "    </tr>\n",
       "    <tr>\n",
       "      <th>32682</th>\n",
       "      <td>44</td>\n",
       "      <td>30.42</td>\n",
       "      <td>102</td>\n",
       "      <td>117.78</td>\n",
       "      <td>6.75</td>\n",
       "    </tr>\n",
       "    <tr>\n",
       "      <th>32683</th>\n",
       "      <td>44</td>\n",
       "      <td>30.42</td>\n",
       "      <td>102</td>\n",
       "      <td>145.19</td>\n",
       "      <td>9.00</td>\n",
       "    </tr>\n",
       "    <tr>\n",
       "      <th>32684</th>\n",
       "      <td>44</td>\n",
       "      <td>30.42</td>\n",
       "      <td>101</td>\n",
       "      <td>164.19</td>\n",
       "      <td>7.87</td>\n",
       "    </tr>\n",
       "    <tr>\n",
       "      <th>32685</th>\n",
       "      <td>44</td>\n",
       "      <td>30.43</td>\n",
       "      <td>101</td>\n",
       "      <td>83.59</td>\n",
       "      <td>3.37</td>\n",
       "    </tr>\n",
       "  </tbody>\n",
       "</table>\n",
       "<p>32686 rows × 5 columns</p>\n",
       "</div>"
      ],
      "text/plain": [
       "       Temperature  Pressure  Humidity  WindDirection(Degrees)  Speed\n",
       "0               48     30.46        59                  177.39   5.62\n",
       "1               48     30.46        58                  176.78   3.37\n",
       "2               48     30.46        57                  158.75   3.37\n",
       "3               48     30.46        60                  137.71   3.37\n",
       "4               48     30.46        62                  104.95   5.62\n",
       "...            ...       ...       ...                     ...    ...\n",
       "32681           44     30.43       102                  145.42   6.75\n",
       "32682           44     30.42       102                  117.78   6.75\n",
       "32683           44     30.42       102                  145.19   9.00\n",
       "32684           44     30.42       101                  164.19   7.87\n",
       "32685           44     30.43       101                   83.59   3.37\n",
       "\n",
       "[32686 rows x 5 columns]"
      ]
     },
     "execution_count": 5,
     "metadata": {},
     "output_type": "execute_result"
    }
   ],
   "source": [
    "X"
   ]
  },
  {
   "cell_type": "code",
   "execution_count": 6,
   "metadata": {},
   "outputs": [
    {
     "data": {
      "text/plain": [
       "0        1.21\n",
       "1        1.21\n",
       "2        1.23\n",
       "3        1.21\n",
       "4        1.17\n",
       "         ... \n",
       "32681    1.22\n",
       "32682    1.17\n",
       "32683    1.20\n",
       "32684    1.23\n",
       "32685    1.20\n",
       "Name: Radiation, Length: 32686, dtype: float64"
      ]
     },
     "execution_count": 6,
     "metadata": {},
     "output_type": "execute_result"
    }
   ],
   "source": [
    "y"
   ]
  },
  {
   "cell_type": "code",
   "execution_count": 7,
   "metadata": {},
   "outputs": [
    {
     "name": "stdout",
     "output_type": "stream",
     "text": [
      "Mean Absolute Error: 258.07199911668306\n"
     ]
    }
   ],
   "source": [
    "# Split the data into training and test sets\n",
    "X_train, X_test, y_train, y_test = train_test_split(X, y, test_size=0.2, random_state=42)\n",
    "\n",
    "# Define a naive model: simply average the target variable\n",
    "y_pred = np.mean(y_train)\n",
    "\n",
    "# Evaluate the model on the test set\n",
    "print('Mean Absolute Error:', np.mean(np.abs(y_test - y_pred)))"
   ]
  },
  {
   "cell_type": "code",
   "execution_count": null,
   "metadata": {},
   "outputs": [],
   "source": []
  }
 ],
 "metadata": {
  "kernelspec": {
   "display_name": "tensor",
   "language": "python",
   "name": "python3"
  },
  "language_info": {
   "codemirror_mode": {
    "name": "ipython",
    "version": 3
   },
   "file_extension": ".py",
   "mimetype": "text/x-python",
   "name": "python",
   "nbconvert_exporter": "python",
   "pygments_lexer": "ipython3",
   "version": "3.10.13"
  }
 },
 "nbformat": 4,
 "nbformat_minor": 2
}
